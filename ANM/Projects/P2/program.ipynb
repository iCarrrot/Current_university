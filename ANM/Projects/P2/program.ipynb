{
 "cells": [
  {
   "cell_type": "code",
   "execution_count": 31,
   "metadata": {
    "collapsed": false
   },
   "outputs": [
    {
     "name": "stdout",
     "output_type": "stream",
     "text": [
      " z \n"
     ]
    },
    {
     "name": "stderr",
     "output_type": "stream",
     "text": [
      "WARNING: Method definition odczytZPliku(Any) in module Main at /home/michal/Dokumenty/Current_university/ANM/Projects/P2/interpol.jl:4 overwritten at /home/michal/Dokumenty/Current_university/ANM/Projects/P2/interpol.jl:4.\n",
      "WARNING: Method definition makeT(Any, Any) in module Main at /home/michal/Dokumenty/Current_university/ANM/Projects/P2/interpol.jl:28 overwritten at /home/michal/Dokumenty/Current_university/ANM/Projects/P2/interpol.jl:28.\n",
      "WARNING: Method definition interpol(Any, Any, Any, Any) in module Main at /home/michal/Dokumenty/Current_university/ANM/Projects/P2/interpol.jl:54 overwritten at /home/michal/Dokumenty/Current_university/ANM/Projects/P2/interpol.jl:54.\n"
     ]
    }
   ],
   "source": [
    "include(\"interpol.jl\")\n",
    "println(\" z \")"
   ]
  },
  {
   "cell_type": "code",
   "execution_count": null,
   "metadata": {
    "collapsed": false
   },
   "outputs": [],
   "source": [
    "(X,Y)=interpol(0.0001,\"marchewka.pkt\",\"czebyszew\",\"wielomian\")\n",
    "\n",
    "plot(X, Y, label=\"Krzywa\", \"blue\", linewidth=1.0 )\n",
    "(X1,Y1)=(X,Y)=interpol(0.001,\"marchewka.pkt\",\"pitagoras\",\"sklejana\")\n",
    "plot(X1, Y1, label=\"Krzywa\", \"red\", linewidth=1.0 )\n",
    "\n",
    "axis(\"equal\")\n",
    "axis([-10,23,-5,20])"
   ]
  }
 ],
 "metadata": {
  "kernelspec": {
   "display_name": "Julia 0.6.0-dev",
   "language": "julia",
   "name": "julia-0.6"
  },
  "language_info": {
   "file_extension": ".jl",
   "mimetype": "application/julia",
   "name": "julia",
   "version": "0.6.0"
  }
 },
 "nbformat": 4,
 "nbformat_minor": 1
}
